{
 "cells": [
  {
   "cell_type": "markdown",
   "id": "1b7cb6f2",
   "metadata": {},
   "source": [
    "**Devesh Verma**\n",
    "\n",
    "**Assignment: Regular Expression**\n",
    "\n",
    "**Date: 07-07-2023 to 16-07-2023**"
   ]
  },
  {
   "cell_type": "code",
   "execution_count": 1,
   "id": "55a69a00",
   "metadata": {},
   "outputs": [],
   "source": [
    "# Import the required Libraries\n",
    "\n",
    "import regex as re"
   ]
  },
  {
   "cell_type": "code",
   "execution_count": 2,
   "id": "29dcaf58",
   "metadata": {},
   "outputs": [],
   "source": [
    "# Function to determine whether a string or text contains given pattern or not\n",
    "\n",
    "def contains_pattern(pattern, text):\n",
    "    \n",
    "    k = False\n",
    "    try:\n",
    "        mtch = re.findall(pattern, text)\n",
    "        \n",
    "        if(len(mtch) == 0):\n",
    "            k = False\n",
    "            \n",
    "        else:\n",
    "            k = True\n",
    "            \n",
    "    except:\n",
    "        print('Issue with inputs')\n",
    "        \n",
    "    return k"
   ]
  },
  {
   "cell_type": "code",
   "execution_count": 3,
   "id": "4506c71a",
   "metadata": {},
   "outputs": [],
   "source": [
    "# Function to determine whether match to given pattern is present or not\n",
    "\n",
    "def fmtch_pattern(pattern, text):\n",
    "    \n",
    "    k = False\n",
    "    \n",
    "    try:\n",
    "        mtch = re.fullmatch(pattern, text)\n",
    "        \n",
    "        if(len(mtch) == 0):\n",
    "            k = False\n",
    "            \n",
    "        else:\n",
    "            k = True\n",
    "        \n",
    "    except:\n",
    "        print('Cant find matches')\n",
    "    \n",
    "    return k"
   ]
  },
  {
   "cell_type": "code",
   "execution_count": 4,
   "id": "410d87b6",
   "metadata": {},
   "outputs": [],
   "source": [
    "# Function to search  whether a string or text has pattern or not\n",
    "\n",
    "def search_pattern(pattern, text):\n",
    "    \n",
    "    k = False\n",
    "    \n",
    "    try:\n",
    "        mtch = re.search(pattern, text)\n",
    "        \n",
    "        if(len(mtch) == 0):\n",
    "            k = False\n",
    "            \n",
    "        else:\n",
    "            k = True\n",
    "        \n",
    "    except:\n",
    "        print('Cant find matches')\n",
    "    \n",
    "    return k"
   ]
  },
  {
   "cell_type": "code",
   "execution_count": 5,
   "id": "ea8cdc44",
   "metadata": {},
   "outputs": [],
   "source": [
    "# Function to find & return a pattern in given string\n",
    "\n",
    "def find_pattern(pattern, text):\n",
    "    \n",
    "    mtch = []\n",
    "    try:\n",
    "        mtch = re.findall(pattern, text)\n",
    "        \n",
    "    except:\n",
    "        print('Issue with Input parameter')\n",
    "        \n",
    "    return mtch"
   ]
  },
  {
   "cell_type": "markdown",
   "id": "71f899da",
   "metadata": {},
   "source": [
    "**Question 1**- \n",
    "\n",
    "Write a Python program to check that a string contains only a certain set of characters (in this case a-z, A-Z and 0-9)."
   ]
  },
  {
   "cell_type": "code",
   "execution_count": 6,
   "id": "b2d45245",
   "metadata": {},
   "outputs": [
    {
     "name": "stdout",
     "output_type": "stream",
     "text": [
      "sample99 \n",
      " Contains Alphanumeric only: True\n",
      "\n",
      "\n",
      "TestSample::22# \n",
      " Contains Alphanumeric only: False\n",
      "\n",
      "\n",
      "TestSample_998# \n",
      " Contains Alphanumeric only: False\n"
     ]
    }
   ],
   "source": [
    "# Sample Texts for test\n",
    "\n",
    "txt_1 = 'sample99'\n",
    "txt_2 = 'TestSample::22#'\n",
    "txt_3 = 'TestSample_998#'\n",
    "\n",
    "# Define the pattern to be checked\n",
    "\n",
    "ptrn = r'^[a-zA-Z0-9]+$'\n",
    "\n",
    "# Print the result by calling the function\n",
    "\n",
    "print(txt_1, '\\n', 'Contains Alphanumeric only:',contains_pattern(ptrn, txt_1))\n",
    "print('\\n')\n",
    "print(txt_2, '\\n', 'Contains Alphanumeric only:', contains_pattern(ptrn,txt_2))\n",
    "print('\\n')\n",
    "print(txt_3, '\\n', 'Contains Alphanumeric only:', contains_pattern(ptrn,txt_3))"
   ]
  },
  {
   "cell_type": "markdown",
   "id": "a505d906",
   "metadata": {},
   "source": [
    "**Question 2**- \n",
    "\n",
    "Create a function in python that matches a string that has an a followed by zero or more b's"
   ]
  },
  {
   "cell_type": "code",
   "execution_count": 7,
   "id": "7e640845",
   "metadata": {},
   "outputs": [
    {
     "name": "stdout",
     "output_type": "stream",
     "text": [
      "ac  \n",
      " contains a followed by 0 or more b:  True\n",
      "\n",
      "\n",
      "abba knows abc alphabets  \n",
      " contains a followed by 0 or more b:  True\n",
      "\n",
      "\n",
      "alphabets  \n",
      " contains a followed by 0 or more b:  True\n",
      "\n",
      "\n",
      "Cant find matches\n",
      "ccccc  \n",
      " contains a followed by 0 or more b:  False\n"
     ]
    }
   ],
   "source": [
    "# Sample Texts for test\n",
    "\n",
    "txt_1 = 'ac'\n",
    "txt_2 ='abba knows abc alphabets'\n",
    "txt_3 = 'alphabets'\n",
    "txt_4 = 'ccccc'\n",
    "\n",
    "# Define the pattern to be checked\n",
    "\n",
    "pttr = r'ab{0,}'\n",
    "\n",
    "# Print the result by calling the function\n",
    "\n",
    "print(txt_1, ' \\n' , 'contains a followed by 0 or more b: ', search_pattern(pttr,txt_1))\n",
    "print('\\n')\n",
    "print(txt_2, ' \\n' , 'contains a followed by 0 or more b: ', search_pattern(pttr,txt_2))\n",
    "print('\\n')\n",
    "print(txt_3, ' \\n' , 'contains a followed by 0 or more b: ', search_pattern(pttr,txt_3))\n",
    "print('\\n')\n",
    "print(txt_4, ' \\n' , 'contains a followed by 0 or more b: ', search_pattern(pttr,txt_4))"
   ]
  },
  {
   "cell_type": "markdown",
   "id": "04a56141",
   "metadata": {},
   "source": [
    "**Question 3**- \n",
    "\n",
    "Create a function in python that matches a string that has an a followed by one or more b's"
   ]
  },
  {
   "cell_type": "code",
   "execution_count": 8,
   "id": "339e2606",
   "metadata": {},
   "outputs": [
    {
     "name": "stdout",
     "output_type": "stream",
     "text": [
      "Cant find matches\n",
      "ac  \n",
      " contains a followed by 1 or more b:  False\n",
      "\n",
      "\n",
      "abba knows abc alphabets  \n",
      " contains a followed by 1 or more b:  True\n",
      "\n",
      "\n",
      "alphabets  \n",
      " contains a followed by 1 or more b:  True\n",
      "\n",
      "\n",
      "Cant find matches\n",
      "ccccc  \n",
      " contains a followed by 1 or more b:  False\n"
     ]
    }
   ],
   "source": [
    "# Sample Texts for test\n",
    "\n",
    "txt_1 = 'ac'\n",
    "txt_2 ='abba knows abc alphabets'\n",
    "txt_3 = 'alphabets'\n",
    "txt_4 = 'ccccc'\n",
    "\n",
    "# Define the pattern to be checked\n",
    "\n",
    "pttr = r'ab+'\n",
    "\n",
    "# Print the result by calling the function\n",
    "\n",
    "print(txt_1, ' \\n' , 'contains a followed by 1 or more b: ', search_pattern(pttr,txt_1))\n",
    "print('\\n')\n",
    "print(txt_2, ' \\n' , 'contains a followed by 1 or more b: ', search_pattern(pttr,txt_2))\n",
    "print('\\n')\n",
    "print(txt_3, ' \\n' , 'contains a followed by 1 or more b: ', search_pattern(pttr,txt_3))\n",
    "print('\\n')\n",
    "print(txt_4, ' \\n' , 'contains a followed by 1 or more b: ', search_pattern(pttr,txt_4))"
   ]
  },
  {
   "cell_type": "markdown",
   "id": "ffabb9d7",
   "metadata": {},
   "source": [
    "**Question 4**- \n",
    "\n",
    "Create a function in Python and use RegEx that matches a string that has an a followed by zero or one 'b'."
   ]
  },
  {
   "cell_type": "code",
   "execution_count": 9,
   "id": "ff924dc4",
   "metadata": {},
   "outputs": [
    {
     "name": "stdout",
     "output_type": "stream",
     "text": [
      "a  \n",
      " contains a followed by 0 or 1 b:  True\n",
      "\n",
      "\n",
      "ab  \n",
      " contains a followed by 0 or 1 b:  True\n",
      "\n",
      "\n",
      "abb knows  \n",
      " contains a followed by 0 or 1 b:  True\n",
      "\n",
      "\n",
      "Cant find matches\n",
      "ccccc  \n",
      " contains a followed by 0 or 1 b:  False\n"
     ]
    }
   ],
   "source": [
    "# Sample Texts for test\n",
    "\n",
    "txt_1 = 'a'\n",
    "txt_2 ='ab'\n",
    "txt_3 = 'abb knows'\n",
    "txt_4 = 'ccccc'\n",
    "\n",
    "# Define the pattern to be checked\n",
    "\n",
    "pttr = r'ab?'\n",
    "\n",
    "# Print the result by calling the function\n",
    "\n",
    "print(txt_1, ' \\n' , 'contains a followed by 0 or 1 b: ', search_pattern(pttr,txt_1))\n",
    "print('\\n')\n",
    "print(txt_2, ' \\n' , 'contains a followed by 0 or 1 b: ', search_pattern(pttr,txt_2))\n",
    "print('\\n')\n",
    "print(txt_3, ' \\n' , 'contains a followed by 0 or 1 b: ', search_pattern(pttr,txt_3))\n",
    "print('\\n')\n",
    "print(txt_4, ' \\n' , 'contains a followed by 0 or 1 b: ', search_pattern(pttr,txt_4))"
   ]
  },
  {
   "cell_type": "markdown",
   "id": "7cc7422d",
   "metadata": {},
   "source": [
    "**Question 5**\n",
    "\n",
    "Write a Python program that matches a string that has an a followed by three 'b'."
   ]
  },
  {
   "cell_type": "code",
   "execution_count": 10,
   "id": "6208f7fd",
   "metadata": {},
   "outputs": [
    {
     "name": "stdout",
     "output_type": "stream",
     "text": [
      "Cant find matches\n",
      "alpha  \n",
      " contains a followed by 3 b:  False\n",
      "\n",
      "\n",
      "abbba  \n",
      " contains a followed by 3 b:  True\n",
      "\n",
      "\n",
      "abc knows abbb  \n",
      " contains a followed by 3 b:  True\n",
      "\n",
      "\n",
      "acccccabbbccc  \n",
      " contains a followed by 3 b:  True\n"
     ]
    }
   ],
   "source": [
    "# Sample Texts for test\n",
    "\n",
    "txt_1 = 'alpha'\n",
    "txt_2 ='abbba'\n",
    "txt_3 = 'abc knows abbb'\n",
    "txt_4 = 'acccccabbbccc'\n",
    "\n",
    "# Define the pattern to be checked\n",
    "\n",
    "pttr = r'.{0,}(abbb)'\n",
    "\n",
    "# Print the result by calling the function\n",
    "\n",
    "print(txt_1, ' \\n' , 'contains a followed by 3 b: ', search_pattern(pttr,txt_1))\n",
    "print('\\n')\n",
    "print(txt_2, ' \\n' , 'contains a followed by 3 b: ', search_pattern(pttr,txt_2))\n",
    "print('\\n')\n",
    "print(txt_3, ' \\n' , 'contains a followed by 3 b: ', search_pattern(pttr,txt_3))\n",
    "print('\\n')\n",
    "print(txt_4, ' \\n' , 'contains a followed by 3 b: ', search_pattern(pttr,txt_4))"
   ]
  },
  {
   "cell_type": "markdown",
   "id": "9a64d54e",
   "metadata": {},
   "source": [
    "**Question 6**-\n",
    "\n",
    "Write a regular expression in Python to split a string into uppercase letters.\n",
    "\n",
    "Sample text: “ImportanceOfRegularExpressionsInPython”\n",
    "\n",
    "Output: [‘Importance’, ‘Of’, ‘Regular’, ‘Expression’, ‘In’, ‘Python’]\n"
   ]
  },
  {
   "cell_type": "code",
   "execution_count": 11,
   "id": "9da1f41e",
   "metadata": {},
   "outputs": [
    {
     "data": {
      "text/plain": [
       "['Importance', 'Of', 'Regular', 'Expressions', 'In', 'Python']"
      ]
     },
     "execution_count": 11,
     "metadata": {},
     "output_type": "execute_result"
    }
   ],
   "source": [
    "# Sample text \n",
    "\n",
    "sample = 'ImportanceOfRegularExpressionsInPython'\n",
    "\n",
    "# Define the Pattern\n",
    "\n",
    "pattern = r'[A-Z][a-z]+'\n",
    "\n",
    "# Use findall function to split the words on finding pattern\n",
    "\n",
    "mtch = re.findall(pattern, sample)\n",
    "mtch"
   ]
  },
  {
   "cell_type": "markdown",
   "id": "87df5dc2",
   "metadata": {},
   "source": [
    "**Question 7-**\n",
    "\n",
    "Write a Python program that matches a string that has an a followed by two to three 'b'"
   ]
  },
  {
   "cell_type": "code",
   "execution_count": 12,
   "id": "98c409af",
   "metadata": {},
   "outputs": [
    {
     "name": "stdout",
     "output_type": "stream",
     "text": [
      "abb abc abbb abbc abbbc  \n",
      " contains a followed by 2 or 3 b:  True\n",
      "\n",
      "\n",
      "abbb  \n",
      " contains a followed by 2 or 3 b:  True\n",
      "\n",
      "\n",
      "Cant find matches\n",
      "ccas  \n",
      " contains a followed by 2 or 3 b:  False\n",
      "\n",
      "\n"
     ]
    }
   ],
   "source": [
    "# Sample text \n",
    "\n",
    "txt_1= 'abb abc abbb abbc abbbc'\n",
    "txt_2= 'abbb'\n",
    "txt_3= 'ccas'\n",
    "\n",
    "# Define the Pattern\n",
    "\n",
    "pattern = r'.{0,}ab{2,3}.{0,}'\n",
    "\n",
    "# Print the result by calling the function\n",
    "\n",
    "print(txt_1, ' \\n' , 'contains a followed by 2 or 3 b: ', search_pattern(pttr,txt_1))\n",
    "print('\\n')\n",
    "print(txt_2, ' \\n' , 'contains a followed by 2 or 3 b: ', search_pattern(pttr,txt_2))\n",
    "print('\\n')\n",
    "print(txt_3, ' \\n' , 'contains a followed by 2 or 3 b: ', search_pattern(pttr,txt_3))\n",
    "print('\\n')"
   ]
  },
  {
   "cell_type": "markdown",
   "id": "65dc8534",
   "metadata": {},
   "source": [
    "**Question 8**- \n",
    "\n",
    "Write a Python program to find sequences of lowercase letters joined with a underscore."
   ]
  },
  {
   "cell_type": "code",
   "execution_count": 13,
   "id": "525ec07a",
   "metadata": {},
   "outputs": [
    {
     "name": "stdout",
     "output_type": "stream",
     "text": [
      "['sample_num', 'one_two']\n",
      "[]\n",
      "[]\n",
      "['ample_yes', 'is_true']\n",
      "['ample_re']\n"
     ]
    }
   ],
   "source": [
    "# Sample text\n",
    "\n",
    "txt_1 = 'sample_num_one_two'\n",
    "txt_2 = 'sample_1'\n",
    "txt_3 = 'sample_NO'\n",
    "txt_4 = 'Sample_yes_is_true'\n",
    "txt_5 = 'Sample_re'\n",
    "\n",
    "# Define the pattern\n",
    "\n",
    "ptrn = r'[a-z]+_[a-z]+'\n",
    "\n",
    "# Call function & print the results\n",
    "\n",
    "print(find_pattern(ptrn, txt_1))\n",
    "print(find_pattern(ptrn, txt_2))\n",
    "print(find_pattern(ptrn, txt_3))\n",
    "print(find_pattern(ptrn, txt_4))\n",
    "print(find_pattern(ptrn, txt_5))"
   ]
  },
  {
   "cell_type": "markdown",
   "id": "6d762434",
   "metadata": {},
   "source": [
    "**Question 9**- \n",
    "\n",
    "Write a Python program that matches a string that has an 'a' followed by anything, ending in 'b'."
   ]
  },
  {
   "cell_type": "code",
   "execution_count": 14,
   "id": "0f3fcf37",
   "metadata": {},
   "outputs": [
    {
     "name": "stdout",
     "output_type": "stream",
     "text": [
      "ample_num_oneb  \n",
      " contains a & ends with b:  True\n",
      "\n",
      "\n",
      "sample_1b  \n",
      " contains a & ends with b:  True\n",
      "\n",
      "\n",
      "Cant find matches\n",
      "asample_NO  \n",
      " contains a & ends with b:  False\n",
      "\n",
      "\n",
      "Cant find matches\n",
      "Smple_yes_is_b  \n",
      " contains a & ends with b:  False\n",
      "\n",
      "\n",
      "Cant find matches\n",
      "Sampleb_re  \n",
      " contains a & ends with b:  False\n"
     ]
    }
   ],
   "source": [
    "# Sample texts\n",
    "\n",
    "txt_1 = 'ample_num_oneb'\n",
    "txt_2 = 'sample_1b'\n",
    "txt_3 = 'asample_NO'\n",
    "txt_4 = 'Smple_yes_is_b'\n",
    "txt_5 = 'Sampleb_re'\n",
    "\n",
    "#Define the Pattern\n",
    "\n",
    "ptrn = r'.{0,}a.*b$'\n",
    "\n",
    "# Call the function & print the results\n",
    "\n",
    "print(txt_1, ' \\n' , 'contains a & ends with b: ', fmtch_pattern(ptrn,txt_1))\n",
    "print('\\n')\n",
    "\n",
    "print(txt_2, ' \\n' , 'contains a & ends with b: ', fmtch_pattern(ptrn,txt_2))\n",
    "print('\\n')\n",
    "\n",
    "print(txt_3, ' \\n' , 'contains a & ends with b: ', fmtch_pattern(ptrn,txt_3))\n",
    "print('\\n')\n",
    "\n",
    "print(txt_4, ' \\n' , 'contains a & ends with b: ', fmtch_pattern(ptrn,txt_4))\n",
    "print('\\n')\n",
    "\n",
    "print(txt_5, ' \\n' , 'contains a & ends with b: ', fmtch_pattern(ptrn,txt_5))"
   ]
  },
  {
   "cell_type": "markdown",
   "id": "6acccaa0",
   "metadata": {},
   "source": [
    "**Question 10**- \n",
    "\n",
    "Write a Python program that matches a word at the beginning of a string."
   ]
  },
  {
   "cell_type": "code",
   "execution_count": 15,
   "id": "49896fce",
   "metadata": {},
   "outputs": [
    {
     "name": "stdout",
     "output_type": "stream",
     "text": [
      "Ant is a hardworking creature  \n",
      " Begins with Ant?:  True\n",
      "\n",
      "\n",
      "Antenna  \n",
      " Begins with Ant?:  True\n",
      "\n",
      "\n",
      "Cant find matches\n",
      "Chant  \n",
      " Begins with Ant?:  False\n",
      "\n",
      "\n"
     ]
    }
   ],
   "source": [
    "# Sample Text\n",
    "\n",
    "txt_1 = 'Ant is a hardworking creature'\n",
    "txt_2 = 'Antenna'\n",
    "txt_3 = 'Chant'\n",
    "\n",
    "# Define Pattern\n",
    "ptrn = r'\\A(Ant)'\n",
    "\n",
    "# call function &  print results\n",
    "print(txt_1, ' \\n' , 'Begins with Ant?: ', search_pattern(ptrn,txt_1))\n",
    "print('\\n')\n",
    "print(txt_2, ' \\n' , 'Begins with Ant?: ', search_pattern(ptrn,txt_2))\n",
    "print('\\n')\n",
    "print(txt_3, ' \\n' , 'Begins with Ant?: ', search_pattern(ptrn,txt_3))\n",
    "print('\\n')"
   ]
  },
  {
   "cell_type": "markdown",
   "id": "fb08f7be",
   "metadata": {},
   "source": [
    "**Question 11**- \n",
    "\n",
    "Write a Python program to match a string that contains only upper and lowercase letters, numbers, and underscores."
   ]
  },
  {
   "cell_type": "code",
   "execution_count": 16,
   "id": "94878205",
   "metadata": {},
   "outputs": [
    {
     "name": "stdout",
     "output_type": "stream",
     "text": [
      "Cant find matches\n",
      "Ant is a hardworking creature  \n",
      " contains only upper,lowercase,numbers, underscores ?:  False\n",
      "\n",
      "\n",
      "Ab36  \n",
      " contains only upper,lowercase,numbers, underscores ?:  True\n",
      "\n",
      "\n",
      "Cant find matches\n",
      "Chant##12  \n",
      " contains only upper,lowercase,numbers, underscores ?:  False\n",
      "\n",
      "\n"
     ]
    }
   ],
   "source": [
    "# Sample Text\n",
    "\n",
    "txt_1 = 'Ant is a hardworking creature'\n",
    "txt_2 = 'Ab36'\n",
    "txt_3 = 'Chant##12'\n",
    "\n",
    "# Define pattern\n",
    "\n",
    "ptrn = r'^[a-zA-Z0-9_]+$'\n",
    "\n",
    "# call function & print results\n",
    "\n",
    "print(txt_1, ' \\n' , 'contains only upper,lowercase,numbers, underscores ?: ', search_pattern(ptrn,txt_1))\n",
    "print('\\n')\n",
    "\n",
    "print(txt_2, ' \\n' , 'contains only upper,lowercase,numbers, underscores ?: ', search_pattern(ptrn,txt_2))\n",
    "print('\\n')\n",
    "\n",
    "print(txt_3, ' \\n' , 'contains only upper,lowercase,numbers, underscores ?: ', search_pattern(ptrn,txt_3))\n",
    "print('\\n')"
   ]
  },
  {
   "cell_type": "markdown",
   "id": "5a326221",
   "metadata": {},
   "source": [
    "**Question 12**-\n",
    "\n",
    "Write a Python program where a string will start with a specific number. "
   ]
  },
  {
   "cell_type": "code",
   "execution_count": 17,
   "id": "d6b17416",
   "metadata": {},
   "outputs": [
    {
     "name": "stdout",
     "output_type": "stream",
     "text": [
      "Cant find matches\n",
      "Ant is a hardworking creature  \n",
      " Begins with specified num?:  False\n",
      "\n",
      "\n",
      "22 Antenna  \n",
      " Begins with specified num?:  True\n",
      "\n",
      "\n",
      "Cant find matches\n",
      "Chant_23  \n",
      " Begins with specified num?:  False\n"
     ]
    }
   ],
   "source": [
    "# Sample Text\n",
    "\n",
    "txt_1 = 'Ant is a hardworking creature'\n",
    "txt_2 = '22 Antenna'\n",
    "txt_3 = 'Chant_23'\n",
    "\n",
    "# Define Pattern\n",
    "\n",
    "ptrn = r'\\A(22)'\n",
    "\n",
    "# Call function & print results\n",
    "\n",
    "print(txt_1, ' \\n' , 'Begins with specified num?: ', search_pattern(ptrn,txt_1))\n",
    "print('\\n')\n",
    "print(txt_2, ' \\n' , 'Begins with specified num?: ', search_pattern(ptrn,txt_2))\n",
    "print('\\n')\n",
    "print(txt_3, ' \\n' , 'Begins with specified num?: ', search_pattern(ptrn,txt_3))"
   ]
  },
  {
   "cell_type": "markdown",
   "id": "323d7166",
   "metadata": {},
   "source": [
    "**Question 13**- \n",
    "\n",
    "Write a Python program to remove leading zeros from an IP address"
   ]
  },
  {
   "cell_type": "code",
   "execution_count": 18,
   "id": "9ebf4155",
   "metadata": {},
   "outputs": [
    {
     "name": "stdout",
     "output_type": "stream",
     "text": [
      "228.168.7.10\n",
      "7.10.110.1\n"
     ]
    }
   ],
   "source": [
    "# Define function that removes leading zeros\n",
    "\n",
    "def rem_zeros(ip_add):\n",
    "    \n",
    "    # Define Pattern\n",
    "    \n",
    "    ptrn = r'\\b0+(\\d)'\n",
    "    return re.sub(ptrn, r'\\1', ip_add)\n",
    "\n",
    "# Testing the function\n",
    "\n",
    "ip1 = \"228.168.007.010\"\n",
    "ip2 = \"007.010.110.001\"\n",
    "\n",
    "print(rem_zeros(ip1))  \n",
    "print(rem_zeros(ip2))  "
   ]
  },
  {
   "cell_type": "markdown",
   "id": "14872538",
   "metadata": {},
   "source": [
    "**Question 14**- \n",
    "\n",
    "Write a regular expression in python to match a date string in the form of Month name followed by day number and year stored in a text file"
   ]
  },
  {
   "cell_type": "code",
   "execution_count": 19,
   "id": "77335295",
   "metadata": {},
   "outputs": [
    {
     "name": "stdout",
     "output_type": "stream",
     "text": [
      "August 15th 1947\n"
     ]
    }
   ],
   "source": [
    "text = \"On August 15th 1947 that India was declared independent from British colonialism, and the reins of control were handed over to the leaders of the Country.\"\n",
    "\n",
    "# Define Pattern to extract date\n",
    "\n",
    "pattern = r'\\b[A-Za-z]+\\s+\\d+(?:st|nd|rd|th)?\\s+\\d{4}\\b'\n",
    "mtch = re.findall(pattern, text)\n",
    "\n",
    "if mtch:\n",
    "    result = mtch[0]\n",
    "else:\n",
    "    result = 'None'\n",
    "\n",
    "print(result)"
   ]
  },
  {
   "cell_type": "markdown",
   "id": "c8015944",
   "metadata": {},
   "source": [
    "**Question 15-**\n",
    "\n",
    "Write a Python program to search some literals strings in a string. Go to the editor\n",
    "\n",
    "Sample text : 'The quick brown fox jumps over the lazy dog.'\n",
    "\n",
    "Searched words : 'fox', 'dog', 'horse'"
   ]
  },
  {
   "cell_type": "code",
   "execution_count": 20,
   "id": "ba858ebc",
   "metadata": {},
   "outputs": [
    {
     "data": {
      "text/plain": [
       "['fox', 'dog']"
      ]
     },
     "execution_count": 20,
     "metadata": {},
     "output_type": "execute_result"
    }
   ],
   "source": [
    "# Sample text & Search List\n",
    "\n",
    "txt_1 = 'The quick brown fox jumps over the lazy dog.'\n",
    "search_list = ['fox', 'dog', 'horse']\n",
    "\n",
    "found_list = []\n",
    "\n",
    "for word in search_list:\n",
    "    \n",
    "    #Define Pattern\n",
    "    \n",
    "    ptrn = r'\\b' + re.escape(word) + r'\\b'\n",
    "    \n",
    "    if re.search(ptrn, txt_1):\n",
    "        found_list.append(word)\n",
    "\n",
    "found_list "
   ]
  },
  {
   "cell_type": "markdown",
   "id": "b0064e48",
   "metadata": {},
   "source": [
    "**Question 16**- \n",
    "\n",
    "Write a Python program to search a literals string in a string and also find the location within the original string where the pattern occurs\n",
    "\n",
    "Sample text : 'The quick brown fox jumps over the lazy dog.'\n",
    "\n",
    "Searched words : 'fox'\n"
   ]
  },
  {
   "cell_type": "code",
   "execution_count": 21,
   "id": "41f5fc68",
   "metadata": {},
   "outputs": [
    {
     "name": "stdout",
     "output_type": "stream",
     "text": [
      "(16, 19)\n"
     ]
    }
   ],
   "source": [
    "# text & search word\n",
    "\n",
    "txt_1 = 'The quick brown fox jumps over the lazy dog.'\n",
    "word = 'fox'\n",
    "\n",
    "# list to store starting point & end point\n",
    "loc = []\n",
    "ptrn = r'\\b' + re.escape(word) + r'\\b'\n",
    "    \n",
    "if re.search(ptrn, txt_1):\n",
    "    print(re.search(ptrn, txt_1).span())"
   ]
  },
  {
   "cell_type": "markdown",
   "id": "4728370e",
   "metadata": {},
   "source": [
    "Question 17- Write a Python program to find the substrings within a string.\n",
    "\n",
    "Sample text : 'Python exercises, PHP exercises, C# exercises'\n",
    "\n",
    "Pattern : 'exercises'."
   ]
  },
  {
   "cell_type": "code",
   "execution_count": 22,
   "id": "cd0b1451",
   "metadata": {},
   "outputs": [
    {
     "name": "stdout",
     "output_type": "stream",
     "text": [
      "['exercises', 'exercises', 'exercises']\n"
     ]
    }
   ],
   "source": [
    "# Sample Text\n",
    "\n",
    "sample_txt = 'Python exercises, PHP exercises, C# exercises'\n",
    "\n",
    "# Define Pattern\n",
    "ptrn = 'exercises'\n",
    "\n",
    "# Call Finditer to get matched group\n",
    "\n",
    "mtch = re.finditer(ptrn, sample_txt)\n",
    "substr = [match.group(0) for match in mtch]\n",
    "\n",
    "print(substr)"
   ]
  },
  {
   "cell_type": "markdown",
   "id": "1b6d6167",
   "metadata": {},
   "source": [
    "**Question 18**- \n",
    "\n",
    "Write a Python program to find the occurrence and position of the substrings within a string."
   ]
  },
  {
   "cell_type": "code",
   "execution_count": 23,
   "id": "755ad713",
   "metadata": {},
   "outputs": [
    {
     "data": {
      "text/plain": [
       "[('exercises', 7, 16), ('exercises', 22, 31), ('exercises', 36, 45)]"
      ]
     },
     "execution_count": 23,
     "metadata": {},
     "output_type": "execute_result"
    }
   ],
   "source": [
    "# Sample Text\n",
    "\n",
    "sample_txt = 'Python exercises, PHP exercises, C# exercises'\n",
    "\n",
    "# Define Pattern\n",
    "\n",
    "ptrn = 'exercises'\n",
    "\n",
    "# Call Finditer to get matched group, start & end point\n",
    "\n",
    "mtch = re.finditer(ptrn, sample_txt)\n",
    "positions = [(match.group(0), match.start(), match.end()) for match in mtch]\n",
    "\n",
    "positions"
   ]
  },
  {
   "cell_type": "markdown",
   "id": "699a1a18",
   "metadata": {},
   "source": [
    "**Question 19-** \n",
    "\n",
    "Write a Python program to convert a date of yyyy-mm-dd format to dd-mm-yyyy format."
   ]
  },
  {
   "cell_type": "code",
   "execution_count": 24,
   "id": "b88cbd32",
   "metadata": {},
   "outputs": [
    {
     "name": "stdout",
     "output_type": "stream",
     "text": [
      "22-03-1965\n"
     ]
    }
   ],
   "source": [
    "# Date in yyyy-mm-dd format\n",
    "\n",
    "yyyy_mm_dd = '1965-03-22'\n",
    "\n",
    "# Split the numbers sequence at - \n",
    "\n",
    "date = re.split('-',yyyy_mm_dd)\n",
    "\n",
    "# Convert to dd-mm-yyyy format\n",
    "\n",
    "dd_mm_yyyy = date[-1]+'-'+date[1]+'-'+date[0]\n",
    "\n",
    "print(dd_mm_yyyy)"
   ]
  },
  {
   "cell_type": "markdown",
   "id": "17a8665e",
   "metadata": {},
   "source": [
    "**Question 20**- \n",
    "\n",
    "Write a Python program to find all words starting with 'a' or 'e' in a given string."
   ]
  },
  {
   "cell_type": "code",
   "execution_count": 25,
   "id": "8754b827",
   "metadata": {},
   "outputs": [
    {
     "name": "stdout",
     "output_type": "stream",
     "text": [
      "ant is a hardworking creature  \n",
      " Begins with a or e?:  True\n",
      "\n",
      "\n",
      "Cant find matches\n",
      "22 Antenna  \n",
      " Begins with a or e?:  False\n",
      "\n",
      "\n",
      "ear_23  \n",
      " Begins with a or e?:  True\n",
      "\n",
      "\n",
      "Cant find matches\n",
      "EA sports  \n",
      " Begins with specified num?:  False\n"
     ]
    }
   ],
   "source": [
    "# Sample Texts\n",
    "\n",
    "txt_1 = 'ant is a hardworking creature'\n",
    "txt_2 = '22 Antenna'\n",
    "txt_3 = 'ear_23'\n",
    "txt_4 = 'EA sports'\n",
    "\n",
    "# Define Pattern\n",
    "ptrn = r'\\A(a|e)'\n",
    "\n",
    "# Call function & print results\n",
    "\n",
    "print(txt_1, ' \\n' , 'Begins with a or e?: ', search_pattern(ptrn,txt_1))\n",
    "print('\\n')\n",
    "print(txt_2, ' \\n' , 'Begins with a or e?: ', search_pattern(ptrn,txt_2))\n",
    "print('\\n')\n",
    "print(txt_3, ' \\n' , 'Begins with a or e?: ', search_pattern(ptrn,txt_3))\n",
    "print('\\n')\n",
    "print(txt_4, ' \\n' , 'Begins with specified num?: ', search_pattern(ptrn,txt_4))"
   ]
  },
  {
   "cell_type": "markdown",
   "id": "19a4cc27",
   "metadata": {},
   "source": [
    "**Question 21**- \n",
    "\n",
    "Write a Python program to separate and print the numbers and their position of a given string."
   ]
  },
  {
   "cell_type": "code",
   "execution_count": 26,
   "id": "c8c4ebd6",
   "metadata": {},
   "outputs": [],
   "source": [
    "# Define Function to split the numbers\n",
    "\n",
    "def split_num(pattern, text):\n",
    "    \n",
    "    loc = []\n",
    "    \n",
    "    try:\n",
    "        # Extract numbers along with there positions\n",
    "        \n",
    "        res = re.finditer(pattern,text)\n",
    "        loc = [(match.group(0), match.start(), match.end()) for match in res]\n",
    "    \n",
    "    except:\n",
    "        \n",
    "        # case if sample has no digits\n",
    "        \n",
    "        print('No digits found')\n",
    "        \n",
    "    return loc\n",
    "\n",
    "# Define function to print information\n",
    "\n",
    "def print_info(num):\n",
    "    \n",
    "    if(len(num)>0):\n",
    "        for n in num:\n",
    "            print('Number:', n[0], 'Start:', n[1], 'End:', n[2]) \n",
    "            \n",
    "    else:\n",
    "        print('No digits')"
   ]
  },
  {
   "cell_type": "code",
   "execution_count": 27,
   "id": "43a48c35",
   "metadata": {},
   "outputs": [],
   "source": [
    "# Sample texts\n",
    "\n",
    "txt_1 = 'Virat scored 90 of 100'\n",
    "txt_2 = '22 Antenna'\n",
    "txt_3 = 'ear sporting '\n",
    "\n",
    "# Define Pattern\n",
    "\n",
    "ptrn = r'\\d+'"
   ]
  },
  {
   "cell_type": "code",
   "execution_count": 28,
   "id": "3613cfb8",
   "metadata": {},
   "outputs": [
    {
     "name": "stdout",
     "output_type": "stream",
     "text": [
      "Virat scored 90 of 100 \n",
      "\n",
      "Number: 90 Start: 13 End: 15\n",
      "Number: 100 Start: 19 End: 22\n",
      "\n",
      "\n",
      "22 Antenna \n",
      "\n",
      "Number: 22 Start: 0 End: 2\n",
      "\n",
      "\n",
      "ear sporting  \n",
      "\n",
      "No digits\n",
      "\n",
      "\n"
     ]
    }
   ],
   "source": [
    "# Check results\n",
    "\n",
    "num_1 = split_num(ptrn, txt_1)\n",
    "print(txt_1, '\\n')\n",
    "print_info(num_1)\n",
    "print('\\n')\n",
    "\n",
    "num_2 = split_num(ptrn, txt_2)\n",
    "print(txt_2, '\\n')\n",
    "print_info(num_2)\n",
    "print('\\n')\n",
    "\n",
    "num_3 = split_num(ptrn, txt_3)\n",
    "print(txt_3, '\\n')\n",
    "print_info(num_3)\n",
    "print('\\n')"
   ]
  },
  {
   "cell_type": "markdown",
   "id": "978fb184",
   "metadata": {},
   "source": [
    "**Question 22**- \n",
    "\n",
    "Write a regular expression in python program to extract maximum numeric value from a string"
   ]
  },
  {
   "cell_type": "code",
   "execution_count": 29,
   "id": "093480eb",
   "metadata": {},
   "outputs": [
    {
     "name": "stdout",
     "output_type": "stream",
     "text": [
      "Max  of extracted numbers: 30\n"
     ]
    }
   ],
   "source": [
    "# Sample Text\n",
    "\n",
    "sample_txt = '12 class has 30 students with 3 teachers and 1 principal'\n",
    "\n",
    "# Define Pattern\n",
    "\n",
    "ptrn = r'\\d+'\n",
    "\n",
    "# Find all numerics present\n",
    "\n",
    "numeric = re.findall(ptrn, sample_txt)\n",
    "\n",
    "num_list = []\n",
    "\n",
    "# Converts string to integer\n",
    "\n",
    "for num in numeric:\n",
    "    \n",
    "    n = int(num)\n",
    "    num_list.append(n)\n",
    "\n",
    "# Print max value in numeric list\n",
    "\n",
    "print('Max  of extracted numbers:', max(num_list))"
   ]
  },
  {
   "cell_type": "markdown",
   "id": "314bc556",
   "metadata": {},
   "source": [
    "**Question 23-**\n",
    "\n",
    "Write a Regex in Python to put spaces between words starting with capital letters"
   ]
  },
  {
   "cell_type": "code",
   "execution_count": 30,
   "id": "4eec6ab3",
   "metadata": {},
   "outputs": [
    {
     "data": {
      "text/plain": [
       "'India Has Five Bastmen Five Bowlers One Allrounder'"
      ]
     },
     "execution_count": 30,
     "metadata": {},
     "output_type": "execute_result"
    }
   ],
   "source": [
    "# Sample text\n",
    "\n",
    "sample_txt = 'IndiaHasFiveBastmenFiveBowlersOneAllrounder'\n",
    "\n",
    "# Define Pattern\n",
    "\n",
    "ptrn1 = r'([a-z])([A-Z])'\n",
    "\n",
    "# Insert Spaces between letters in caps\n",
    "\n",
    "spacing = re.sub(ptrn1, r'\\1 \\2', sample_txt)\n",
    "spacing    "
   ]
  },
  {
   "cell_type": "markdown",
   "id": "80380cd9",
   "metadata": {},
   "source": [
    "**Question 24**- \n",
    "\n",
    "Python regex to find sequences of one upper case letter followed by lower case letters"
   ]
  },
  {
   "cell_type": "code",
   "execution_count": 31,
   "id": "5a4cd5e5",
   "metadata": {},
   "outputs": [
    {
     "name": "stdout",
     "output_type": "stream",
     "text": [
      "['India', 'Army']\n",
      "['India', 'Shri', 'Narendra', 'Modi']\n"
     ]
    }
   ],
   "source": [
    "# Sample texts\n",
    "\n",
    "txt1 = 'India Army is the best'\n",
    "txt2 = 'PM of India in 2023 is Shri Narendra Modi'\n",
    "\n",
    "# Define Pattern\n",
    "\n",
    "ptrn = r'([A-Z]{1}[a-z]+)'\n",
    "\n",
    "# Call function & print results\n",
    "\n",
    "print(find_pattern(ptrn, txt1))\n",
    "print(find_pattern(ptrn, txt2))"
   ]
  },
  {
   "cell_type": "markdown",
   "id": "fade2352",
   "metadata": {},
   "source": [
    "**Question 25-**\n",
    "\n",
    "Write a Python program to remove duplicate words from Sentence using Regular Expression"
   ]
  },
  {
   "cell_type": "code",
   "execution_count": 32,
   "id": "93da0730",
   "metadata": {},
   "outputs": [
    {
     "data": {
      "text/plain": [
       "'Python , PHP , C# exercises'"
      ]
     },
     "execution_count": 32,
     "metadata": {},
     "output_type": "execute_result"
    }
   ],
   "source": [
    "# Sample texts\n",
    "\n",
    "sample_txt = 'Python exercises, PHP exercises, C# exercises'\n",
    "\n",
    "# Define Pattern\n",
    "\n",
    "ptrn = r'\\b(\\w+)\\b(?=.*\\b\\1\\b)'\n",
    "\n",
    "# Substitute the duplicates with ''\n",
    "\n",
    "result = re.sub(ptrn, '', sample_txt)\n",
    "result"
   ]
  },
  {
   "cell_type": "markdown",
   "id": "1b0bf27c",
   "metadata": {},
   "source": [
    "**Question 26**-  \n",
    "\n",
    "Write a python program using RegEx to accept string ending with alphanumeric character."
   ]
  },
  {
   "cell_type": "code",
   "execution_count": 33,
   "id": "35f13c77",
   "metadata": {},
   "outputs": [
    {
     "name": "stdout",
     "output_type": "stream",
     "text": [
      "a  \n",
      " end with alphanumeric:  True\n",
      "\n",
      "\n",
      "ab23  \n",
      " end with alphanumeric:  True\n",
      "\n",
      "\n",
      "Cant find matches\n",
      "abb knows#  \n",
      " end with alphanumeric:  False\n",
      "\n",
      "\n",
      "Cant find matches\n",
      "cc23ccc_  \n",
      " end with alphanumeric:  False\n"
     ]
    }
   ],
   "source": [
    "# Sample texts\n",
    "\n",
    "txt_1 = 'a'\n",
    "txt_2 ='ab23'\n",
    "txt_3 = 'abb knows#'\n",
    "txt_4 = 'cc23ccc_'\n",
    "\n",
    "# Define Pattern\n",
    "\n",
    "pttr = r'([a-z]|[A-Z]|[0-9])$'\n",
    "\n",
    "# Call function & print results\n",
    "\n",
    "print(txt_1, ' \\n' , 'end with alphanumeric: ', search_pattern(pttr,txt_1))\n",
    "print('\\n')\n",
    "print(txt_2, ' \\n' , 'end with alphanumeric: ', search_pattern(pttr,txt_2))\n",
    "print('\\n')\n",
    "print(txt_3, ' \\n' , 'end with alphanumeric: ', search_pattern(pttr,txt_3))\n",
    "print('\\n')\n",
    "print(txt_4, ' \\n' , 'end with alphanumeric: ', search_pattern(pttr,txt_4))"
   ]
  },
  {
   "cell_type": "markdown",
   "id": "6ffa5f91",
   "metadata": {},
   "source": [
    "**Question 27**-\n",
    "\n",
    "Write a python program using RegEx to extract the hashtags.\n",
    "\n",
    "Sample Text: text = \"\"\"RT @kapil_kausik: #Doltiwal I mean #xyzabc is \"hurt\" by #Demonetization as the same has rendered USELESS <ed><U+00A0><U+00BD><ed><U+00B1><U+0089> \"acquired funds\" No wo\"\"\"\n",
    "    \n",
    "Output: ['#Doltiwal', '#xyzabc', '#Demonetization']"
   ]
  },
  {
   "cell_type": "code",
   "execution_count": 34,
   "id": "82273ff8",
   "metadata": {},
   "outputs": [
    {
     "name": "stdout",
     "output_type": "stream",
     "text": [
      "['#Doltiwal', '#xyzabc', '#Demonetization']\n"
     ]
    }
   ],
   "source": [
    "# Sample Text\n",
    "\n",
    "text = \"\"\"RT @kapil_kausik: #Doltiwal I mean #xyzabc is \"hurt\" by #Demonetization as the same has rendered USELESS <ed><U+00A0><U+00BD><ed><U+00B1><U+0089> \"acquired funds\" No wo\"\"\"\n",
    "\n",
    "# Define Pattern\n",
    "pttr = r'#[\\S]{0,}'\n",
    "\n",
    "# Call Function & print results\n",
    "\n",
    "print(find_pattern(pttr,text))"
   ]
  },
  {
   "cell_type": "markdown",
   "id": "90120168",
   "metadata": {},
   "source": [
    "**Question 28- Write a python program using RegEx to remove <U+..> like symbols**\n",
    "\n",
    "Check the below sample text, there are strange symbols something of the sort <U+..> all over the place. You need to come up with a general Regex expression that will cover all such symbols.\n",
    "\n",
    "Sample Text: \"@Jags123456 Bharat band on 28??<ed><U+00A0><U+00BD><ed><U+00B8><U+0082>Those who  are protesting #demonetization  are all different party leaders\"\n",
    "    \n",
    "Output: @Jags123456 Bharat band on 28??<ed><ed>Those who  are protesting #demonetization  are all different party leaders\n"
   ]
  },
  {
   "cell_type": "code",
   "execution_count": 35,
   "id": "25689d3d",
   "metadata": {},
   "outputs": [
    {
     "name": "stdout",
     "output_type": "stream",
     "text": [
      "@Jags123456 Bharat band on 28??Those who  are protesting #demonetization  are all different party leaders\n"
     ]
    }
   ],
   "source": [
    "# Sample Text\n",
    "\n",
    "txt = \"@Jags123456 Bharat band on 28??<ed><U+00A0><U+00BD><U+00B8><U+0082>Those who  are protesting #demonetization  are all different party leaders\"\n",
    "\n",
    "# Define Pattern\n",
    "\n",
    "pttr = r'<.{0,6}>'\n",
    "\n",
    "# Substitute unwanted tags with ''\n",
    "\n",
    "print(re.sub(pttr, '', txt))"
   ]
  },
  {
   "cell_type": "markdown",
   "id": "15066eae",
   "metadata": {},
   "source": [
    "**Question 29**- \n",
    "\n",
    "Write a python program to extract dates from the text stored in the text file.\n",
    "\n",
    "Sample Text: Ron was born on 12-09-1992 and he was admitted to school 15-12-1999.\n",
    "\n",
    "Store this sample text in the file and then extract dates."
   ]
  },
  {
   "cell_type": "code",
   "execution_count": 36,
   "id": "f44e6cc8",
   "metadata": {},
   "outputs": [
    {
     "name": "stdout",
     "output_type": "stream",
     "text": [
      "Ron was born on 12-09-1992 and he was admitted to school 15-12-1999.\n"
     ]
    },
    {
     "data": {
      "text/plain": [
       "['12-09-1992', '15-12-1999']"
      ]
     },
     "execution_count": 36,
     "metadata": {},
     "output_type": "execute_result"
    }
   ],
   "source": [
    "# Define Filename\n",
    "\n",
    "file_a = 'dt.txt'\n",
    "\n",
    "# Read file contents\n",
    "\n",
    "try:\n",
    "    with open(file_a, 'r') as file:\n",
    "        content = file.read()\n",
    "    print(content)\n",
    "except FileNotFoundError:\n",
    "    print(\"File not found.\")\n",
    "except IOError:\n",
    "    print(\"Error reading the file.\")\n",
    "    \n",
    "# Define Pattern\n",
    "\n",
    "ptrn = r'\\d+'\n",
    "\n",
    "# Extract numerics\n",
    "\n",
    "dt_txt = find_pattern(ptrn, content)\n",
    "var = len(dt_txt)\n",
    "date_ext = []\n",
    "\n",
    "# Extarct dates\n",
    "\n",
    "for i in range(0,var,3):\n",
    "    \n",
    "    date_ext.append(dt_txt[i]+'-'+dt_txt[i+1]+'-'+dt_txt[i+2])\n",
    "    \n",
    "date_ext"
   ]
  },
  {
   "cell_type": "markdown",
   "id": "a810ea2c",
   "metadata": {},
   "source": [
    "**Question 30-** \n",
    "\n",
    "Write a Python program to replace all occurrences of a space, comma, or dot with a colon.\n",
    "\n",
    "Sample Text- 'Python Exercises, PHP exercises.'\n",
    "\n",
    "Output: Python:Exercises::PHP:exercises:\n"
   ]
  },
  {
   "cell_type": "code",
   "execution_count": 37,
   "id": "56d95a5b",
   "metadata": {},
   "outputs": [
    {
     "data": {
      "text/plain": [
       "'Python:Exercises::PHP:exercises:'"
      ]
     },
     "execution_count": 37,
     "metadata": {},
     "output_type": "execute_result"
    }
   ],
   "source": [
    "# Sample Text\n",
    "\n",
    "txt = 'Python Exercises, PHP exercises.'\n",
    "\n",
    "# Define Pattern\n",
    "\n",
    "ptrn = r'((,)|(\\.)|(\\s))'\n",
    "\n",
    "# Substiture not needed stuffs with ':'\n",
    "\n",
    "new_txt = re.sub(ptrn, ':', txt)\n",
    "\n",
    "new_txt"
   ]
  }
 ],
 "metadata": {
  "kernelspec": {
   "display_name": "Python 3 (ipykernel)",
   "language": "python",
   "name": "python3"
  },
  "language_info": {
   "codemirror_mode": {
    "name": "ipython",
    "version": 3
   },
   "file_extension": ".py",
   "mimetype": "text/x-python",
   "name": "python",
   "nbconvert_exporter": "python",
   "pygments_lexer": "ipython3",
   "version": "3.9.13"
  }
 },
 "nbformat": 4,
 "nbformat_minor": 5
}
