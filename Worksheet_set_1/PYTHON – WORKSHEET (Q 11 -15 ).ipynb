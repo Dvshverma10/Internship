{
 "cells": [
  {
   "cell_type": "markdown",
   "id": "87841951",
   "metadata": {},
   "source": [
    "# 11. Write a python program to find the factorial of a number."
   ]
  },
  {
   "cell_type": "code",
   "execution_count": 1,
   "id": "c825e6af",
   "metadata": {},
   "outputs": [],
   "source": [
    "# Function to determine Factorial \n",
    "\n",
    "def factorial (p):           \n",
    "    \n",
    "    fact = 1                                        # Initialize the variable                                \n",
    "    try:  \n",
    "        if (p>=0):                                  # case of valid input received \n",
    "            \n",
    "            for k in range(1,p+1,1):\n",
    "                \n",
    "                fact = fact*k\n",
    "                \n",
    "            print('factorial of ', p, '=', fact)\n",
    "        \n",
    "        else:                                      # case of undefined factorials\n",
    "            \n",
    "            fact ='Undefined'\n",
    "            print('factorial of ', p, 'is', fact)   \n",
    "        \n",
    "    except:\n",
    "        \n",
    "            print('Invalid Input Received:',p, 'factorial cant be calculated')   # case of invalid inputs"
   ]
  },
  {
   "cell_type": "code",
   "execution_count": 2,
   "id": "44910350",
   "metadata": {},
   "outputs": [
    {
     "name": "stdout",
     "output_type": "stream",
     "text": [
      "factorial of  7 = 5040\n",
      "\n",
      "\n",
      "factorial of  -2 is Undefined\n",
      "\n",
      "\n",
      "Invalid Input Received: 3.33 factorial cant be calculated\n",
      "\n",
      "\n",
      "Invalid Input Received: xyz factorial cant be calculated\n",
      "\n",
      "\n",
      "Enter the positive integer to calculate factorial:5\n",
      "factorial of  5 = 120\n"
     ]
    }
   ],
   "source": [
    "#TEST CASES: \n",
    "\n",
    "factorial(7)   # VALID POSITIVE INTEGER\n",
    "print('\\n')\n",
    "factorial(-2)  # UNDEFINED FACTORIALS\n",
    "print('\\n')\n",
    "factorial(3.33)\n",
    "print('\\n')\n",
    "factorial('xyz') # INVALID CASES\n",
    "print('\\n')\n",
    "\n",
    "n =  int(input('Enter the positive integer to calculate factorial:' ))      # via input from user\n",
    "    \n",
    "factorial(n)"
   ]
  },
  {
   "cell_type": "markdown",
   "id": "4b775aa4",
   "metadata": {},
   "source": [
    "# 12. Write a python program to find whether a number is prime or composite"
   ]
  },
  {
   "cell_type": "code",
   "execution_count": 3,
   "id": "430c02ac",
   "metadata": {},
   "outputs": [],
   "source": [
    "# Function to determine Prime/Composite Number \n",
    "\n",
    "def prime(p):          \n",
    "        \n",
    "    factors = 0                                    # Initialize the variable     \n",
    "    \n",
    "    try:\n",
    "        \n",
    "        if (p>0):                                 # case of valid input received\n",
    "            \n",
    "            for k in range(2,((p-1)//2),1):\n",
    "                \n",
    "                if(p%k == 0):\n",
    "                    \n",
    "                    factors+= 1\n",
    "                    \n",
    "                    break;\n",
    "                    \n",
    "                    \n",
    "        if(factors>0):\n",
    "            \n",
    "            print(p,' is a Composite  Number')\n",
    "            \n",
    "        else:\n",
    "            \n",
    "            if(p>0):\n",
    "                \n",
    "                print(p, ' is a Prime Number')\n",
    "                \n",
    "            else:\n",
    "                \n",
    "                print(p, 'Not a positive Integer')\n",
    "                      \n",
    "       \n",
    "    except:\n",
    "            \n",
    "            print('Invalid Input Received:',p)   # case of invalid inputs"
   ]
  },
  {
   "cell_type": "code",
   "execution_count": 4,
   "id": "db150172",
   "metadata": {},
   "outputs": [
    {
     "name": "stdout",
     "output_type": "stream",
     "text": [
      "12  is a Composite  Number\n",
      "\n",
      "\n",
      "7  is a Prime Number\n",
      "\n",
      "\n",
      "Invalid Input Received: 2.5\n",
      "\n",
      "\n",
      "-2 Not a positive Integer\n",
      "\n",
      "\n",
      "Invalid Input Received: xyz\n",
      "\n",
      "\n",
      "Enter the positive integer to check :39\n",
      "39  is a Composite  Number\n"
     ]
    }
   ],
   "source": [
    "#TEST CASES: \n",
    "\n",
    "prime(12)\n",
    "print('\\n')\n",
    "prime(7)\n",
    "print('\\n')\n",
    "prime(2.5)\n",
    "print('\\n')\n",
    "prime(-2)\n",
    "print('\\n')\n",
    "prime('xyz')\n",
    "print('\\n')\n",
    "n =  int(input('Enter the positive integer to check :' ))      # via input from user\n",
    "\n",
    "prime(n)"
   ]
  },
  {
   "cell_type": "markdown",
   "id": "03cc6ca2",
   "metadata": {},
   "source": [
    "# 13. Write a python program to check whether a given string is palindrome or not."
   ]
  },
  {
   "cell_type": "code",
   "execution_count": 5,
   "id": "6e0285e9",
   "metadata": {},
   "outputs": [],
   "source": [
    "def is_palindrome(str_in):\n",
    "    \n",
    "    try: \n",
    "        if(str_in ==str_in[::-1]):\n",
    "        \n",
    "            print(str_in, ': PALINDROME')\n",
    "        \n",
    "        else :\n",
    "            print(str_in, ': NOT A PALINDROME')\n",
    "    \n",
    "    except: \n",
    "        \n",
    "        print('INVALID PARAMETER PASSED')\n"
   ]
  },
  {
   "cell_type": "code",
   "execution_count": 6,
   "id": "3351c9d0",
   "metadata": {},
   "outputs": [
    {
     "name": "stdout",
     "output_type": "stream",
     "text": [
      "KAYAKA : NOT A PALINDROME\n",
      "\n",
      "\n",
      "KAYAK : PALINDROME\n",
      "\n",
      "\n",
      "INVALID PARAMETER PASSED\n"
     ]
    }
   ],
   "source": [
    "# TEST CASES: \n",
    "\n",
    "is_palindrome('KAYAKA')\n",
    "print('\\n')\n",
    "is_palindrome('KAYAK')\n",
    "print('\\n')\n",
    "is_palindrome(20202)"
   ]
  },
  {
   "cell_type": "code",
   "execution_count": 7,
   "id": "582e401b",
   "metadata": {},
   "outputs": [
    {
     "name": "stdout",
     "output_type": "stream",
     "text": [
      "Enter word to check for palindromeRADAR\n",
      "RADAR : PALINDROME\n"
     ]
    }
   ],
   "source": [
    "# take input from user\n",
    "\n",
    "# Input will typecast integer to String hence numeric values are treared as string\n",
    "\n",
    "var_in = input(\"Enter word to check for palindrome\")\n",
    "\n",
    "is_palindrome(var_in)"
   ]
  },
  {
   "cell_type": "markdown",
   "id": "45a31c94",
   "metadata": {},
   "source": [
    "# 14. Write a Python program to get the third side of right-angled triangle from two given sides"
   ]
  },
  {
   "cell_type": "code",
   "execution_count": 8,
   "id": "e0a6d0a9",
   "metadata": {},
   "outputs": [],
   "source": [
    "# a, b: Smaller sides, c: Hypotenuse\n",
    "# Case 1: Two smaller sides are given ==> c = sqrt((a**2)+(b**2))\n",
    "# Case 2: One of the smaller side is not available  a = sqrt((c**2)-(b**2))\n",
    "\n",
    "# case 2 is not valid if two given sides are equal\n",
    "\n",
    "import math                                         # IMPORT LIBRARY REQUIRED\n",
    "\n",
    "def dim_rt_tr(x,y):\n",
    "    \n",
    "    side3_a = math.sqrt((x**2)+(y**2))             # Caluclate 3rd side, assuming both x & y are not hypotenuse\n",
    "    \n",
    "    if(x != y):\n",
    "        print('For right angled triangle, there are 2 possibilities','\\n')\n",
    "        \n",
    "        if (x>y):\n",
    "            side3_b = math.sqrt((x**2)-(y**2))     # Caluclate 3rd side, assuming x is hypotenuse\n",
    "            \n",
    "        else:\n",
    "            side3_b = math.sqrt((y**2)-(x**2))     # Caluclate 3rd side, assuming y is hypotenuse\n",
    "            \n",
    "        print('Possible values of 3rd side: ', side3_a, 'or' , side3_b)\n",
    "        \n",
    "    else:\n",
    "        print('For right angled triangle,Value of 3rd side is: ', side3_a )\n",
    "            "
   ]
  },
  {
   "cell_type": "code",
   "execution_count": 9,
   "id": "14c949df",
   "metadata": {},
   "outputs": [
    {
     "name": "stdout",
     "output_type": "stream",
     "text": [
      "For right angled triangle,Value of 3rd side is:  7.0710678118654755\n",
      "\n",
      "\n",
      "For right angled triangle, there are 2 possibilities \n",
      "\n",
      "Possible values of 3rd side:  5.0 or 2.6457513110645907\n"
     ]
    }
   ],
   "source": [
    "#TEST CASES\n",
    "\n",
    "dim_rt_tr(5,5)\n",
    "print('\\n')\n",
    "dim_rt_tr(4,3)"
   ]
  },
  {
   "cell_type": "markdown",
   "id": "708e4d68",
   "metadata": {},
   "source": [
    "# 15. Write a python program to print the frequency of each of the characters present in a given string"
   ]
  },
  {
   "cell_type": "code",
   "execution_count": 10,
   "id": "4038f3e7",
   "metadata": {},
   "outputs": [],
   "source": [
    "def char_freq(in_var1):\n",
    "    \n",
    "    try:\n",
    "        my_set = set(in_var1)                               # Converting to set extracts unique characters available\n",
    "        \n",
    "        if(len(my_set) >0 ):\n",
    "            print('Available characters are:', my_set)\n",
    "                \n",
    "            for m in my_set:\n",
    "                print(m, 'occurs ', in_var1.count(m), ' times') # Iterating values in set & using count determine the freq.\n",
    "                \n",
    "            \n",
    "    except:\n",
    "        \n",
    "        print('INVALID PARAMETERS: Not a string value', in_var1)         # In case of non string "
   ]
  },
  {
   "cell_type": "code",
   "execution_count": 11,
   "id": "cbd907de",
   "metadata": {},
   "outputs": [
    {
     "name": "stdout",
     "output_type": "stream",
     "text": [
      "Available characters are: {'d', 'g', 's', 'f'}\n",
      "d occurs  5  times\n",
      "g occurs  4  times\n",
      "s occurs  3  times\n",
      "f occurs  1  times\n",
      "\n",
      "\n",
      "INVALID PARAMETERS: Not a string value 232434\n"
     ]
    }
   ],
   "source": [
    "# TEST CASES:\n",
    "\n",
    "char_freq('dsfgsdgsdgdgd')\n",
    "print('\\n')\n",
    "\n",
    "char_freq(232434)"
   ]
  }
 ],
 "metadata": {
  "kernelspec": {
   "display_name": "Python 3 (ipykernel)",
   "language": "python",
   "name": "python3"
  },
  "language_info": {
   "codemirror_mode": {
    "name": "ipython",
    "version": 3
   },
   "file_extension": ".py",
   "mimetype": "text/x-python",
   "name": "python",
   "nbconvert_exporter": "python",
   "pygments_lexer": "ipython3",
   "version": "3.9.13"
  }
 },
 "nbformat": 4,
 "nbformat_minor": 5
}
